{
  "cells": [
    {
      "cell_type": "code",
      "execution_count": 26,
      "metadata": {
        "id": "VrtiAu65099M"
      },
      "outputs": [],
      "source": [
        "import pandas as pd\n",
        "import seaborn as sns\n",
        "import matplotlib.pyplot as plt"
      ]
    },
    {
      "cell_type": "code",
      "execution_count": 21,
      "metadata": {
        "id": "0owlMugW1KHy"
      },
      "outputs": [],
      "source": [
        "def calc_mrr(df):\n",
        "    sum = df['Rank'].sum()\n",
        "    mrr=1/20 * sum\n",
        "    return mrr"
      ]
    },
    {
      "cell_type": "code",
      "execution_count": 22,
      "metadata": {
        "colab": {
          "base_uri": "https://localhost:8080/"
        },
        "id": "zWp5O6YG1285",
        "outputId": "62f0709d-ac2f-4987-fe4e-bdba2d16b251"
      },
      "outputs": [
        {
          "name": "stdout",
          "output_type": "stream",
          "text": [
            "Mean Reciprocal Rank of Chatbot Functionality: 0.9165\n",
            "Mean Reciprocal Rank of Translator Functionality: 0.7825000000000001\n",
            "Mean Reciprocal Rank of Landmark Detection Functionality: 0.8660000000000001\n"
          ]
        }
      ],
      "source": [
        "df1=pd.read_excel('chatbot_testing.xlsx')\n",
        "df2=pd.read_excel('landmark_testing.xlsx')\n",
        "df3=pd.read_excel('translator_testing.xlsx')\n",
        "mrr_chatbot=calc_mrr(df1)\n",
        "mrr_translator=calc_mrr(df2)\n",
        "mrr_landmark=calc_mrr(df3)\n",
        "print('Mean Reciprocal Rank of Chatbot Functionality:', mrr_chatbot)\n",
        "print('Mean Reciprocal Rank of Translator Functionality:', mrr_translator)\n",
        "print('Mean Reciprocal Rank of Landmark Detection Functionality:', mrr_landmark)"
      ]
    },
    {
      "cell_type": "code",
      "execution_count": 23,
      "metadata": {
        "colab": {
          "base_uri": "https://localhost:8080/",
          "height": 297
        },
        "id": "eJZy1dkWAuP7",
        "outputId": "ffe8bc02-423a-44e0-9f5a-6993e59f2153"
      },
      "outputs": [
        {
          "data": {
            "text/plain": [
              "<matplotlib.axes._subplots.AxesSubplot at 0x7f849b587b50>"
            ]
          },
          "execution_count": 23,
          "metadata": {},
          "output_type": "execute_result"
        },
        {
          "data": {
            "image/png": "[encoded data removed]",
            "text/plain": [
              "<Figure size 432x288 with 1 Axes>"
            ]
          },
          "metadata": {
            "needs_background": "light"
          },
          "output_type": "display_data"
        }
      ],
      "source": [
        "sns.countplot(x='Match', data=df1)"
      ]
    },
    {
      "cell_type": "code",
      "execution_count": 24,
      "metadata": {
        "colab": {
          "base_uri": "https://localhost:8080/",
          "height": 297
        },
        "id": "6Z44Sr4rDUSZ",
        "outputId": "9e44a6df-288d-4f6a-e51c-03dd4f72cc4b"
      },
      "outputs": [
        {
          "data": {
            "text/plain": [
              "<matplotlib.axes._subplots.AxesSubplot at 0x7f849b506210>"
            ]
          },
          "execution_count": 24,
          "metadata": {},
          "output_type": "execute_result"
        },
        {
          "data": {
            "image/png": "[encoded data removed]",
            "text/plain": [
              "<Figure size 432x288 with 1 Axes>"
            ]
          },
          "metadata": {
            "needs_background": "light"
          },
          "output_type": "display_data"
        }
      ],
      "source": [
        "sns.countplot(x='Match', data=df2)"
      ]
    },
    {
      "cell_type": "code",
      "execution_count": 25,
      "metadata": {
        "colab": {
          "base_uri": "https://localhost:8080/",
          "height": 297
        },
        "id": "pyCZ5EKEGMlh",
        "outputId": "86700dc5-d4a3-4a23-d4ea-6877105ff047"
      },
      "outputs": [
        {
          "data": {
            "text/plain": [
              "<matplotlib.axes._subplots.AxesSubplot at 0x7f849b4be4d0>"
            ]
          },
          "execution_count": 25,
          "metadata": {},
          "output_type": "execute_result"
        },
        {
          "data": {
            "image/png": "[encoded data removed]",
            "text/plain": [
              "<Figure size 432x288 with 1 Axes>"
            ]
          },
          "metadata": {
            "needs_background": "light"
          },
          "output_type": "display_data"
        }
      ],
      "source": [
        "sns.countplot(x='Match', data=df3)"
      ]
    },
    {
      "cell_type": "code",
      "execution_count": 40,
      "metadata": {
        "colab": {
          "base_uri": "https://localhost:8080/",
          "height": 295
        },
        "id": "OzyMolEPGavc",
        "outputId": "542ee5c1-e985-4317-eba9-be5d015cbcc2"
      },
      "outputs": [
        {
          "data": {
            "image/png": "[encoded data removed]",
            "text/plain": [
              "<Figure size 432x288 with 1 Axes>"
            ]
          },
          "metadata": {
            "needs_background": "light"
          },
          "output_type": "display_data"
        }
      ],
      "source": [
        "mrr = [mrr_landmark,mrr_chatbot,mrr_translator]\n",
        "func = ['Landmark','Chatbot','Translator']\n",
        "x = func\n",
        "y = mrr\n",
        "plt.barh(x, y, color='maroon')\n",
        "  \n",
        "for index, value in enumerate(y):\n",
        "    plt.text(value, index,\n",
        "             str(value))\n",
        "  \n",
        "plt.ylabel(\"Functionality\")\n",
        "plt.xlabel(\"Mean Reciprocal Rank\")\n",
        "plt.title(\"Comparison\")\n",
        "plt.show()"
      ]
    },
    {
      "cell_type": "code",
      "execution_count": null,
      "metadata": {
        "id": "9J0kupdQHl1h"
      },
      "outputs": [],
      "source": []
    }
  ],
  "metadata": {
    "colab": {
      "name": "mrr.ipynb",
      "provenance": []
    },
    "kernelspec": {
      "display_name": "Python 3",
      "name": "python3"
    },
    "language_info": {
      "name": "python",
      "version": "3.9.7"
    }
  },
  "nbformat": 4,
  "nbformat_minor": 0
}
